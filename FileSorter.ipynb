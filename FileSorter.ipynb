{
 "cells": [
  {
   "cell_type": "markdown",
   "id": "fc324cd9-b963-4508-aecc-2374c1b49271",
   "metadata": {},
   "source": [
    "# This is a project where we use two libraries: os and shutil to automatically sort files into respective folders according to their type."
   ]
  },
  {
   "cell_type": "markdown",
   "id": "2d5c4826-7b69-4778-88a9-8189cacdd492",
   "metadata": {},
   "source": [
    "<p style=\"color:skyblue\">This is a mini version where we just have three file types. It can easily be extended to include more file extensions.</p>"
   ]
  },
  {
   "cell_type": "code",
   "execution_count": 41,
   "id": "bfba72f2-631d-431e-9133-8ed267cf36b2",
   "metadata": {},
   "outputs": [],
   "source": [
    "import os,shutil\n",
    "path=r\"C:/Users/samri/OneDrive/Desktop/Self_publish/\""
   ]
  },
  {
   "cell_type": "code",
   "execution_count": 42,
   "id": "8486fbc4-673f-4112-a906-f7643cf92e6b",
   "metadata": {
    "scrolled": true
   },
   "outputs": [],
   "source": [
    "file_names=os.listdir(path)"
   ]
  },
  {
   "cell_type": "code",
   "execution_count": 43,
   "id": "2a0a237e-8850-466c-8057-d5a7edab450d",
   "metadata": {},
   "outputs": [],
   "source": [
    "folder_names=[\"PdfFiles\",\"PngFiles\",\"JPGFiles\"]\n",
    "for names in folder_names:\n",
    "    if not os.path.exists(path+names):\n",
    "        os.makedirs(path+names)"
   ]
  },
  {
   "cell_type": "code",
   "execution_count": 44,
   "id": "e6fea9b6-0fd3-4293-9f73-435f4ef83f48",
   "metadata": {},
   "outputs": [],
   "source": [
    "for file in file_names:\n",
    "    if \".pdf\" in file and not os.path.exists(path+\"PdfFiles/\"+file):\n",
    "        shutil.move(path+file,path+\"PdfFiles/\"+file)\n",
    "    elif \".png\" in file and not os.path.exists(path+\"PngFiles/\"+file):\n",
    "        shutil.move(path+file,path+\"PngFiles/\"+file)\n",
    "    elif \".jpg\" in file and not os.path.exists(path+\"JPGFiles/\"+file):\n",
    "        shutil.move(path+file,path+\"JPGFiles/\"+file)"
   ]
  }
 ],
 "metadata": {
  "kernelspec": {
   "display_name": "Python 3 (ipykernel)",
   "language": "python",
   "name": "python3"
  },
  "language_info": {
   "codemirror_mode": {
    "name": "ipython",
    "version": 3
   },
   "file_extension": ".py",
   "mimetype": "text/x-python",
   "name": "python",
   "nbconvert_exporter": "python",
   "pygments_lexer": "ipython3",
   "version": "3.12.4"
  }
 },
 "nbformat": 4,
 "nbformat_minor": 5
}
